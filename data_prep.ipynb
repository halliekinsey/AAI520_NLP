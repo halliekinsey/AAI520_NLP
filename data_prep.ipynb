{
 "cells": [
  {
   "cell_type": "code",
   "execution_count": 3,
   "metadata": {},
   "outputs": [
    {
     "name": "stdout",
     "output_type": "stream",
     "text": [
      "<genre:comedy,romance><char:BIANCA><char:CAMERON>\n",
      "BIANCA: Can we make this quick?  Roxanne Korrine and Andrew Barrett are having an incredibly horrendous public break- up on the quad.  Again.\n",
      "CAMERON: Well, I thought we'd start with pronunciation, if that's okay with you.\n",
      "BIANCA: Not the hacking and gagging and spitting part.  Please.\n",
      "CAMERON: Okay... then how 'bout we try out some French cuisine.  Saturday?  Night?\n",
      "\n",
      "\n",
      "<genre:comedy,romance><char:BIANCA><char:CAMERON>\n",
      "BIANCA: You're asking me out.  That's so cute. What's your name again?\n",
      "CAMERON: Forget it.\n",
      "\n",
      "\n",
      "<genre:comedy,romance><char:BIANCA><char:CAMERON>\n",
      "BIANCA: No, no, it's my fault -- we didn't have a proper introduction ---\n",
      "CAMERON: Cameron.\n",
      "BIANCA: The thing is, Cameron -- I'm at the mercy of a particularly hideous breed of loser.  My sister.  I can't date until she does.\n",
      "CAMERON: Seems like she could get a date easy enough...\n",
      "\n",
      "\n",
      "<genre:comedy,romance><char:BIANCA><char:CAMERON>\n",
      "CAMERON: Why?\n",
      "BIANCA: Unsolved mystery.  She used to be really popular when she started high school, then it was just like she got sick of it or something.\n",
      "CAMERON: That's a shame.\n",
      "\n",
      "\n",
      "<genre:comedy,romance><char:BIANCA><char:CAMERON>\n",
      "BIANCA: Gosh, if only we could find Kat a boyfriend...\n",
      "CAMERON: Let me see what I can do.\n",
      "\n",
      "\n"
     ]
    }
   ],
   "source": [
    "import csv\n",
    "import re\n",
    "\n",
    "def read_delimited_file(file_path):\n",
    "    with open(file_path, 'r', encoding='utf-8', errors='replace') as file:\n",
    "        return [line.split(' +++$+++ ') for line in file]\n",
    "\n",
    "# Read data\n",
    "character_metadata = read_delimited_file('cornell_movie_dialog_corpus/movie_characters_metadata.txt')\n",
    "movie_lines = read_delimited_file('cornell_movie_dialog_corpus/movie_lines.txt')\n",
    "movie_title_metadata = read_delimited_file('cornell_movie_dialog_corpus/movie_titles_metadata.txt')\n",
    "movie_conversations = read_delimited_file('cornell_movie_dialog_corpus/movie_conversations.txt')\n",
    "\n",
    "# Create dictionaries for lookup\n",
    "char_dict = {line[0]: line[1] for line in character_metadata}\n",
    "movie_dict = {line[0]: line for line in movie_title_metadata}\n",
    "line_dict = {line[0]: line for line in movie_lines}\n",
    "\n",
    "processed_dialogs = []\n",
    "\n",
    "for conv in movie_conversations:\n",
    "    movie_id = conv[2]\n",
    "    line_ids = eval(conv[3])\n",
    "    \n",
    "    # Movie genres\n",
    "    genres = eval(movie_dict[movie_id][5])\n",
    "    genre_tag = \"<genre:\" + ','.join(genres) + \">\"    \n",
    "\n",
    "    # Character names\n",
    "    char1_id, char2_id = conv[0], conv[1]\n",
    "    char1_name = char_dict[char1_id]\n",
    "    char2_name = char_dict[char2_id]\n",
    "    \n",
    "    # Construct dialog\n",
    "    dialog = f\"{genre_tag}<char:{char1_name}><char:{char2_name}>\\n\"\n",
    "\n",
    "    for line_id in line_ids:\n",
    "        line = line_dict[line_id]\n",
    "        speaker_name = line[3]\n",
    "        dialog_line = line[4].strip()\n",
    "        dialog += f\"{speaker_name}: {dialog_line}\\n\"\n",
    "    \n",
    "    processed_dialogs.append(dialog)\n",
    "\n",
    "with open('processed_dialogs.txt', 'w', encoding='utf-8') as f:\n",
    "    for dialog in processed_dialogs:\n",
    "        f.write(dialog + '\\n\\n')\n",
    "\n",
    "for i in range(5):\n",
    "    print(processed_dialogs[i])\n",
    "    print()"
   ]
  },
  {
   "cell_type": "markdown",
   "metadata": {},
   "source": [
    "It may not be as good at scene generation as hoped. Ideally we'd have something like this. Where we also have the setting for each scene and the full dialog.\n",
    "\n",
    "http://www.script-o-rama.com/movie_scripts/10/10-things-i-hate-about-you-script.html\n",
    "\n",
    "Unfortunately the conversation chains in this corpus are also broken up oddly. Like things that are really one conversation are split into many in the movie_convos for instance. It would probably be better at mimicking something more like the style of response of particular characters than doing full scenes."
   ]
  }
 ],
 "metadata": {
  "kernelspec": {
   "display_name": "Python 3",
   "language": "python",
   "name": "python3"
  },
  "language_info": {
   "codemirror_mode": {
    "name": "ipython",
    "version": 3
   },
   "file_extension": ".py",
   "mimetype": "text/x-python",
   "name": "python",
   "nbconvert_exporter": "python",
   "pygments_lexer": "ipython3",
   "version": "3.11.9"
  }
 },
 "nbformat": 4,
 "nbformat_minor": 2
}
